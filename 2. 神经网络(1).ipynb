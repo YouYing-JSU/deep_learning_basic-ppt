{
  "nbformat": 4,
  "nbformat_minor": 0,
  "metadata": {
    "colab": {
      "provenance": []
    },
    "kernelspec": {
      "name": "python3",
      "display_name": "Python 3"
    },
    "language_info": {
      "name": "python"
    }
  },
  "cells": [
    {
      "cell_type": "markdown",
      "source": [
        "## 3.1 从感知机到神经网络"
      ],
      "metadata": {
        "id": "oUH4gfNr8Shf"
      }
    },
    {
      "cell_type": "markdown",
      "source": [
        "### 3.1.1 神经网络的例子"
      ],
      "metadata": {
        "id": "dIxTi24dSv_L"
      }
    },
    {
      "cell_type": "markdown",
      "source": [
        "<div align=\"center\">\n",
        "<img src=\"https://s2.loli.net/2022/11/03/O84UFWZpRiPnAq5.png\" width=\"60%\">\n",
        "</div>"
      ],
      "metadata": {
        "id": "QHn3pVLwQ7PI"
      }
    },
    {
      "cell_type": "markdown",
      "source": [
        "### 3.1.2 复习感知机"
      ],
      "metadata": {
        "id": "kH9rJZn-NTvD"
      }
    },
    {
      "cell_type": "markdown",
      "source": [
        "$$\n",
        "y=\\left\\{\n",
        "\\begin{array}{cc}\n",
        "0 & (b+w_1x_1+w_2x_2 \\leq 0) \\\\\n",
        "1 & (b+w_1x_1+w_2x_2 > 0)\n",
        "\\end{array}\n",
        "\\right.\n",
        "$$"
      ],
      "metadata": {
        "id": "OU5zb3So8qxo"
      }
    },
    {
      "cell_type": "markdown",
      "source": [
        "---"
      ],
      "metadata": {
        "id": "LzbYW6f8Nlj7"
      }
    },
    {
      "cell_type": "markdown",
      "source": [
        "$$\n",
        "y=h(b+w_1x_1+w_2x_2) \\\\\n",
        "h(x)=\\left\\{\n",
        "\\begin{array}{cc}\n",
        "0 & (x \\leq 0) \\\\\n",
        "1 & (x > 0) \\\\\n",
        "\\end{array}\n",
        "\\right.\n",
        "$$"
      ],
      "metadata": {
        "id": "dBTrRrcNNY9Q"
      }
    },
    {
      "cell_type": "markdown",
      "source": [
        "### 3.1.3 激活函数登场"
      ],
      "metadata": {
        "id": "IFHM4u8I8twi"
      }
    },
    {
      "cell_type": "markdown",
      "source": [
        "$$\n",
        "a = b + w_1x_1+w_2x_2 \\\\\n",
        "y = h(a)\n",
        "$$"
      ],
      "metadata": {
        "id": "Orkg4zSjNpO_"
      }
    },
    {
      "cell_type": "markdown",
      "source": [
        "## 3.2 激活函数"
      ],
      "metadata": {
        "id": "BcAHLoOcF1Fa"
      }
    },
    {
      "cell_type": "markdown",
      "source": [
        "### 3.2.1 sigmoid函数"
      ],
      "metadata": {
        "id": "1f0g7zdNIVbL"
      }
    },
    {
      "cell_type": "markdown",
      "source": [
        "$$\n",
        "h(x) = \\frac{1}{1 + e^{-x}}\n",
        "$$"
      ],
      "metadata": {
        "id": "cZUu5TOtNPDY"
      }
    },
    {
      "cell_type": "markdown",
      "source": [
        "### 3.2.2 阶跃函数的实现"
      ],
      "metadata": {
        "id": "tIEAsGwUIyvf"
      }
    },
    {
      "cell_type": "code",
      "source": [
        "def step_function(x):\n",
        "  if x > 0:\n",
        "    return 1\n",
        "  else:\n",
        "    return 0"
      ],
      "metadata": {
        "id": "8As2XgpMI1sz"
      },
      "execution_count": null,
      "outputs": []
    },
    {
      "cell_type": "code",
      "source": [
        "import numpy as np\n",
        "\n",
        "def step_function(x):\n",
        "  # numpy\n",
        "  y = x > 0\n",
        "  return np.array(x, dtype=int)"
      ],
      "metadata": {
        "id": "wW4BrhWuI7W9"
      },
      "execution_count": null,
      "outputs": []
    },
    {
      "cell_type": "code",
      "source": [
        "import numpy as np\n",
        "x = np.array([-1.0, 1.0, 2.0])\n",
        "print(x)\n",
        "\n",
        "y = x > 0\n",
        "print(y)\n",
        "\n",
        "y = np.array(y, dtype=int)\n",
        "# y = y.astype(np.int)\n",
        "print(y)"
      ],
      "metadata": {
        "colab": {
          "base_uri": "https://localhost:8080/"
        },
        "id": "amcOjUXkJ1aL",
        "outputId": "0bee733b-fdb5-4d8c-c757-a84a63c7ce91"
      },
      "execution_count": null,
      "outputs": [
        {
          "output_type": "stream",
          "name": "stdout",
          "text": [
            "[-1.  1.  2.]\n",
            "[False  True  True]\n",
            "[0 1 1]\n"
          ]
        }
      ]
    },
    {
      "cell_type": "markdown",
      "source": [
        "### 3.2.3 阶跃函数的图形"
      ],
      "metadata": {
        "id": "Vs16abl8KFzr"
      }
    },
    {
      "cell_type": "code",
      "source": [
        "import numpy as np\n",
        "import matplotlib.pyplot as plt\n",
        "\n",
        "\n",
        "def step_function(x):\n",
        "  return np.array(x > 0, dtype=int)\n",
        "\n",
        "\n",
        "x = np.arange(-5.0, 5.0, 0.1)\n",
        "y = step_function(x)\n",
        "plt.plot(x, y)\n",
        "plt.ylim(-0.1, 1.1)\n",
        "plt.show()"
      ],
      "metadata": {
        "colab": {
          "base_uri": "https://localhost:8080/",
          "height": 265
        },
        "id": "uaUG3WCtKWnq",
        "outputId": "6390cbb4-dc67-4f7c-e852-ba613670771e"
      },
      "execution_count": null,
      "outputs": [
        {
          "output_type": "display_data",
          "data": {
            "text/plain": [
              "<Figure size 432x288 with 1 Axes>"
            ],
            "image/png": "[encoded data removed]"
          },
          "metadata": {
            "needs_background": "light"
          }
        }
      ]
    },
    {
      "cell_type": "markdown",
      "source": [
        "### 3.2.4 sigmoid函数的实现"
      ],
      "metadata": {
        "id": "g5XXiUaqK7W0"
      }
    },
    {
      "cell_type": "markdown",
      "source": [
        "$$\n",
        "sigmoid(x) = \\frac{1}{1 + e^{-x}}\n",
        "$$"
      ],
      "metadata": {
        "id": "9HgENiJAN1BS"
      }
    },
    {
      "cell_type": "code",
      "source": [
        "def sigmoid(x):\n",
        "  return  1 / (1 + np.exp(-x))"
      ],
      "metadata": {
        "id": "lI4Opx-lNMZl"
      },
      "execution_count": null,
      "outputs": []
    },
    {
      "cell_type": "code",
      "source": [
        "x = np.array([-1.0, 1.0, 2.0])\n",
        "print(sigmoid(x))"
      ],
      "metadata": {
        "colab": {
          "base_uri": "https://localhost:8080/"
        },
        "id": "xwWLwOJ7OBXc",
        "outputId": "7db96d0c-da03-4e5f-a69c-842cb96f8876"
      },
      "execution_count": null,
      "outputs": [
        {
          "output_type": "stream",
          "name": "stdout",
          "text": [
            "[0.26894142 0.73105858 0.88079708]\n"
          ]
        }
      ]
    },
    {
      "cell_type": "code",
      "source": [
        "# Numpy的广播功能\n",
        "t = np.array([1.0, 2.0, 3.0])\n",
        "print(1.0 + t)\n",
        "print(1.0 / t)"
      ],
      "metadata": {
        "colab": {
          "base_uri": "https://localhost:8080/"
        },
        "id": "fE17gssFOF0V",
        "outputId": "60653fb0-9111-43a1-9257-fb3be0dc15c0"
      },
      "execution_count": null,
      "outputs": [
        {
          "output_type": "stream",
          "name": "stdout",
          "text": [
            "[2. 3. 4.]\n",
            "[1.         0.5        0.33333333]\n"
          ]
        }
      ]
    },
    {
      "cell_type": "code",
      "source": [
        "x = np.arange(-5.0, 5.0, 0.1)\n",
        "y = sigmoid(x)\n",
        "plt.plot(x, y)\n",
        "# plt.ylim(-0.1, 1.1)\n",
        "plt.show()"
      ],
      "metadata": {
        "colab": {
          "base_uri": "https://localhost:8080/",
          "height": 265
        },
        "id": "big1u9-vOKai",
        "outputId": "4956c6d0-1255-4c3d-97f7-520b06999937"
      },
      "execution_count": null,
      "outputs": [
        {
          "output_type": "display_data",
          "data": {
            "text/plain": [
              "<Figure size 432x288 with 1 Axes>"
            ],
            "image/png": "[encoded data removed]"
          },
          "metadata": {
            "needs_background": "light"
          }
        }
      ]
    },
    {
      "cell_type": "markdown",
      "source": [
        "### 3.2.5 sigmoid函数和阶跃函数的比较"
      ],
      "metadata": {
        "id": "4Py7EtxrOdhB"
      }
    },
    {
      "cell_type": "code",
      "source": [
        "x = np.arange(-5.0, 5.0, 0.1)\n",
        "y1 = sigmoid(x)\n",
        "y2 = step_function(x)\n",
        "plt.plot(x, y1, linestyle='-')\n",
        "plt.plot(x, y2, linestyle='--')\n",
        "plt.ylim(-0.1, 1.1)\n",
        "plt.show()"
      ],
      "metadata": {
        "colab": {
          "base_uri": "https://localhost:8080/",
          "height": 265
        },
        "id": "rgxBsAdpPFkg",
        "outputId": "b33d085b-8a4b-4c3a-e6c3-895f92a31100"
      },
      "execution_count": null,
      "outputs": [
        {
          "output_type": "display_data",
          "data": {
            "text/plain": [
              "<Figure size 432x288 with 1 Axes>"
            ],
            "image/png": "[encoded data removed]"
          },
          "metadata": {
            "needs_background": "light"
          }
        }
      ]
    },
    {
      "cell_type": "markdown",
      "source": [
        "### 3.2.6 非线性函数"
      ],
      "metadata": {
        "id": "TYT_pFVXPrIv"
      }
    },
    {
      "cell_type": "markdown",
      "source": [
        "### 3.2.7 ReLU函数"
      ],
      "metadata": {
        "id": "Q4iaOCBAS2-M"
      }
    },
    {
      "cell_type": "markdown",
      "source": [
        "$$\n",
        "h(x) = \\left\\{\n",
        "\\begin{array}{cc}\n",
        "x & (x > 0) \\\\\n",
        "0 & (x \\leq 0)\n",
        "\\end{array}\n",
        "\\right.\n",
        "$$"
      ],
      "metadata": {
        "id": "hClZ44HOS6E-"
      }
    },
    {
      "cell_type": "code",
      "source": [
        "def relu(x):\n",
        "  return np.maximum(0, x)"
      ],
      "metadata": {
        "id": "aM9feJBtTGyG"
      },
      "execution_count": null,
      "outputs": []
    },
    {
      "cell_type": "code",
      "source": [
        "x = np.arange(-5.0, 5.0, 0.1)\n",
        "y = relu(x)\n",
        "plt.plot(x, y)\n",
        "plt.show()"
      ],
      "metadata": {
        "colab": {
          "base_uri": "https://localhost:8080/",
          "height": 265
        },
        "id": "YQiYEWXUUUAN",
        "outputId": "0f2ea5a3-e876-4cdb-a27e-daff4961442e"
      },
      "execution_count": null,
      "outputs": [
        {
          "output_type": "display_data",
          "data": {
            "text/plain": [
              "<Figure size 432x288 with 1 Axes>"
            ],
            "image/png": "[encoded data removed]"
          },
          "metadata": {
            "needs_background": "light"
          }
        }
      ]
    },
    {
      "cell_type": "markdown",
      "source": [
        "## 3.3 多维数组的运算"
      ],
      "metadata": {
        "id": "0sg9plijUbGt"
      }
    },
    {
      "cell_type": "markdown",
      "source": [
        "### 3.3.1 多维数组"
      ],
      "metadata": {
        "id": "kHoWvhcTWJEc"
      }
    },
    {
      "cell_type": "code",
      "source": [
        "import numpy as np\n",
        "A = np.array([1, 2, 3, 4])\n",
        "print(A)\n",
        "print(np.ndim(A))\n",
        "print(A.shape)\n",
        "print(A.shape[0])\n",
        "\n",
        "print(\"\".center(13, '-'))\n",
        "\n",
        "B = np.array([[1,2], [3,4], [5,6]])\n",
        "print(B)\n",
        "print(np.ndim(B))\n",
        "print(B.shape)"
      ],
      "metadata": {
        "colab": {
          "base_uri": "https://localhost:8080/"
        },
        "id": "Xoe8781NWLcm",
        "outputId": "7b15af50-edd8-4199-f77d-d782625f4b29"
      },
      "execution_count": null,
      "outputs": [
        {
          "output_type": "stream",
          "name": "stdout",
          "text": [
            "[1 2 3 4]\n",
            "1\n",
            "(4,)\n",
            "4\n",
            "-------------\n",
            "[[1 2]\n",
            " [3 4]\n",
            " [5 6]]\n",
            "2\n",
            "(3, 2)\n"
          ]
        }
      ]
    },
    {
      "cell_type": "markdown",
      "source": [
        "### 3.3.2 矩阵乘法"
      ],
      "metadata": {
        "id": "u12eGwSMWeWS"
      }
    },
    {
      "cell_type": "markdown",
      "source": [
        "<div align=\"center\">\n",
        "<img src=\"https://s2.loli.net/2022/11/03/FRNyXGbCicgAV1T.png\" width=\"60%\">\n",
        "</div>"
      ],
      "metadata": {
        "id": "oNXV8cK1QcnE"
      }
    },
    {
      "cell_type": "markdown",
      "source": [
        "<div align=\"center\">\n",
        "<img src=\"https://s2.loli.net/2022/11/03/boZS9ga6PK584E3.png\" width=\"60%\">\n",
        "</div>"
      ],
      "metadata": {
        "id": "IgRRTB8qW_2J"
      }
    },
    {
      "cell_type": "code",
      "source": [
        "A = np.array([[1, 2], [3, 4]])\n",
        "print(A.shape)\n",
        "\n",
        "B = np.array([[5, 6], [7, 8]])\n",
        "print(B.shape)\n",
        "\n",
        "print(np.dot(A, B))"
      ],
      "metadata": {
        "colab": {
          "base_uri": "https://localhost:8080/"
        },
        "id": "x5FOHIP6Qbz0",
        "outputId": "7c389fa8-9059-43f0-f13a-de60671dc566"
      },
      "execution_count": null,
      "outputs": [
        {
          "output_type": "stream",
          "name": "stdout",
          "text": [
            "(2, 2)\n",
            "(2, 2)\n",
            "[[19 22]\n",
            " [43 50]]\n"
          ]
        }
      ]
    },
    {
      "cell_type": "code",
      "source": [
        "A = np.array([[1, 2, 3], [4, 5, 6]])\n",
        "print(A.shape)\n",
        "\n",
        "B = np.array([[1, 2], [3, 4], [5, 6]])\n",
        "print(B.shape)\n",
        "\n",
        "print(np.dot(A, B))"
      ],
      "metadata": {
        "colab": {
          "base_uri": "https://localhost:8080/"
        },
        "id": "q926DHmNQx4t",
        "outputId": "bb7dfe84-2c98-433f-9c70-4f8a8a91460c"
      },
      "execution_count": null,
      "outputs": [
        {
          "output_type": "stream",
          "name": "stdout",
          "text": [
            "(2, 3)\n",
            "(3, 2)\n",
            "[[22 28]\n",
            " [49 64]]\n"
          ]
        }
      ]
    },
    {
      "cell_type": "code",
      "source": [
        "# Error\n",
        "C = np.array([[1, 2], [3, 4]])\n",
        "print(C.shape)\n",
        "print(A.shape)\n",
        "print(np.dot(A, C))\n",
        "ValueError: shapes (2,3) and (2,2) not aligned: 3 (dim 1) != 2 (dim 0)"
      ],
      "metadata": {
        "colab": {
          "base_uri": "https://localhost:8080/",
          "height": 130
        },
        "id": "mcYS0dXoREs5",
        "outputId": "1e73badb-4e85-411f-dd9c-a442c10500cf"
      },
      "execution_count": null,
      "outputs": [
        {
          "output_type": "error",
          "ename": "SyntaxError",
          "evalue": "ignored",
          "traceback": [
            "\u001b[0;36m  File \u001b[0;32m\"<ipython-input-15-6745f6a52df1>\"\u001b[0;36m, line \u001b[0;32m6\u001b[0m\n\u001b[0;31m    ValueError: shapes (2,3) and (2,2) not aligned: 3 (dim 1) != 2 (dim 0)\u001b[0m\n\u001b[0m                                                 ^\u001b[0m\n\u001b[0;31mSyntaxError\u001b[0m\u001b[0;31m:\u001b[0m invalid syntax\n"
          ]
        }
      ]
    },
    {
      "cell_type": "markdown",
      "source": [
        "### 3.3.3 神经网络的内积"
      ],
      "metadata": {
        "id": "oXCzT5v0RSA8"
      }
    },
    {
      "cell_type": "markdown",
      "source": [
        "<div align=\"center\">\n",
        "<img src=\"https://s2.loli.net/2022/11/03/a1LepvkoZWNjxFC.png\" width=\"60%\">\n",
        "</div>"
      ],
      "metadata": {
        "id": "OYPww7k0RbZh"
      }
    },
    {
      "cell_type": "code",
      "source": [
        "X = np.array([1, 2])\n",
        "print(X.shape)\n",
        "\n",
        "W = np.array([[1, 3, 5], [2, 4, 6]])\n",
        "print(W)\n",
        "print(W.shape)\n",
        "\n",
        "Y = np.dot(X, W)\n",
        "print(Y)"
      ],
      "metadata": {
        "colab": {
          "base_uri": "https://localhost:8080/"
        },
        "id": "udpRS-WYR83p",
        "outputId": "b2fd1c75-e4d3-4a99-dcd4-48183ea276d0"
      },
      "execution_count": null,
      "outputs": [
        {
          "output_type": "stream",
          "name": "stdout",
          "text": [
            "(2,)\n",
            "[[1 3 5]\n",
            " [2 4 6]]\n",
            "(2, 3)\n",
            "[ 5 11 17]\n"
          ]
        }
      ]
    },
    {
      "cell_type": "markdown",
      "source": [
        "## 3.4 3层神经网络的实现\n",
        "<div align=\"center\">\n",
        "<img src=\"https://s2.loli.net/2022/11/03/RaDhzdXGopenL8u.png\" width=\"60%\">\n",
        "</div>"
      ],
      "metadata": {
        "id": "bpjXk0TTSrRr"
      }
    },
    {
      "cell_type": "markdown",
      "source": [
        "### 3.4.1 符号确认"
      ],
      "metadata": {
        "id": "FpXTsITcTLy8"
      }
    },
    {
      "cell_type": "markdown",
      "source": [
        "<div align=\"center\">\n",
        "<img src=\"https://s2.loli.net/2022/11/03/cFkPSOGIj2Dqx8o.png\" width=\"60%\">\n",
        "</div>"
      ],
      "metadata": {
        "id": "xu6-pK_HTSbY"
      }
    },
    {
      "cell_type": "markdown",
      "source": [
        "### 3.4.2 各层间信号传递的实现"
      ],
      "metadata": {
        "id": "rcrcPmPNVQj8"
      }
    },
    {
      "cell_type": "markdown",
      "source": [
        "<div align=\"center\">\n",
        "<img src=\"https://s2.loli.net/2022/11/03/mKwYjUNn7xtadLJ.png\" widtH=\"60%\">\n",
        "</div>"
      ],
      "metadata": {
        "id": "HeVGWJG3b17J"
      }
    },
    {
      "cell_type": "markdown",
      "source": [
        "$$\n",
        "a_1^{(1)} = w_{11}^{(1)}x_1 + w_{12}^{(1)}x_2+b_1^{(1)}\n",
        "$$"
      ],
      "metadata": {
        "id": "SVehJuoxWNKT"
      }
    },
    {
      "cell_type": "markdown",
      "source": [
        "\n",
        "$$\n",
        "A^{(1)}=XW^{(1)} + B^{(1)}\n",
        "$$\n",
        "\n",
        "\\begin{array}{}\n",
        "A^{(1)}=(a_1^{(1)} & a_2^{(1)} & a_3^{(1)}), & X = (x_1 & x_2), & B = (b_1^{(1)}& b_2^{(1)} & b_3^{(1)}) \n",
        "\\end{array}\n",
        "\n",
        "$$\n",
        "W^{(1)} = \\left( \n",
        "\\begin{array}{cc}\n",
        "  w_{11}^{(1)} & w_{21}^{(1)} & w_{31}^{(1)} \\\\\n",
        "  w_{12}^{(1)} & w_{22}^{(1)} & w_{32}^{(1)} \\\\\n",
        "\\end{array}\n",
        "  \\right)\n",
        "$$\n"
      ],
      "metadata": {
        "id": "GaF2yLqYXAhl"
      }
    },
    {
      "cell_type": "code",
      "source": [
        "X = np.array([1.0, 0.5])\n",
        "W1 = np.array([[0.1, 0.3, 0.5], [0.2, 0.4, 0.6]])\n",
        "B1 = np.array([[0.1, 0.2, 0.3]])\n",
        "\n",
        "print(W1.shape)\n",
        "print(X.shape)\n",
        "print(B1.shape)\n",
        "\n",
        "A1 = np.dot(X, W1) + B1"
      ],
      "metadata": {
        "id": "ZClj6kGCXMpv",
        "colab": {
          "base_uri": "https://localhost:8080/"
        },
        "outputId": "6889ea30-1605-442a-f1a5-e09340c415ec"
      },
      "execution_count": null,
      "outputs": [
        {
          "output_type": "stream",
          "name": "stdout",
          "text": [
            "(2, 3)\n",
            "(2,)\n",
            "(1, 3)\n"
          ]
        }
      ]
    },
    {
      "cell_type": "code",
      "source": [
        "Z1 = sigmoid(A1)\n",
        "\n",
        "print(A1)\n",
        "print(Z1)"
      ],
      "metadata": {
        "colab": {
          "base_uri": "https://localhost:8080/"
        },
        "id": "-IpABdZEbG3J",
        "outputId": "12349eaa-b865-400d-d90b-8038928c7834"
      },
      "execution_count": null,
      "outputs": [
        {
          "output_type": "stream",
          "name": "stdout",
          "text": [
            "[[0.3 0.7 1.1]]\n",
            "[[0.57444252 0.66818777 0.75026011]]\n"
          ]
        }
      ]
    },
    {
      "cell_type": "markdown",
      "source": [
        "<div align=\"center\">\n",
        "<img src=\"https://s2.loli.net/2022/11/03/nO3YuGHsLSUy9RE.png\" width=\"60%\">\n",
        "</div>"
      ],
      "metadata": {
        "id": "dVjdsvJidP7u"
      }
    },
    {
      "cell_type": "code",
      "source": [
        "W2 = np.array([[0.1, 0.4], [0.2, 0.5], [0.3, 0.6]])\n",
        "B2 = np.array([0.1, 0.2])\n",
        "\n",
        "print(Z1.shape)\n",
        "print(W2.shape)\n",
        "print(B2.shape)\n",
        "\n",
        "A2 = np.dot(Z1, W2) + B2\n",
        "Z2 = sigmoid(A2)"
      ],
      "metadata": {
        "colab": {
          "base_uri": "https://localhost:8080/"
        },
        "id": "eXzIBZFtc_jJ",
        "outputId": "16bdecf7-848c-4bce-9d3f-1b3a4317dd44"
      },
      "execution_count": null,
      "outputs": [
        {
          "output_type": "stream",
          "name": "stdout",
          "text": [
            "(1, 3)\n",
            "(3, 2)\n",
            "(2,)\n"
          ]
        }
      ]
    },
    {
      "cell_type": "markdown",
      "source": [
        "<div align=\"center\">\n",
        "<img src=\"https://s2.loli.net/2022/11/03/7laKAvjIY8FJr4R.png\", width=\"60%\">\n",
        "</div>"
      ],
      "metadata": {
        "id": "WI_p3qlXeApd"
      }
    },
    {
      "cell_type": "code",
      "source": [
        "def identity_function(x):\n",
        "  return x\n",
        "\n",
        "W3 = np.array([[0.1, 0.3], [0.2, 0.4]])\n",
        "B3 = np.array([0.1, 0.2])\n",
        "\n",
        "A3 = np.dot(Z2, W3) + B3\n",
        "Y = identity_function(A3)"
      ],
      "metadata": {
        "id": "Woh-cUU6dyDL"
      },
      "execution_count": null,
      "outputs": []
    },
    {
      "cell_type": "markdown",
      "source": [
        "### 3.4.3 代码实现小结"
      ],
      "metadata": {
        "id": "wIpnx-MffALh"
      }
    },
    {
      "cell_type": "code",
      "source": [
        "def init_network():\n",
        "  network = {}\n",
        "  network[\"W1\"] = np.array([[0.1, 0.3, 0.5], [0.2, 0.4, 0.6]])\n",
        "  network[\"b1\"] = np.array([0.1, 0.2, 0.3])\n",
        "  network[\"W2\"] = np.array([[0.1, 0.4], [0.2, 0.5], [0.3, 0.6]])\n",
        "  network[\"b2\"] = np.array([0.1, 0.2])\n",
        "  network[\"W3\"] = np.array([[0.1, 0.3], [0.2, 0.4]])\n",
        "  network[\"b3\"] = np.array([0.1, 0.2])\n",
        "\n",
        "  return network\n",
        "\n",
        "\n",
        "def forward(network, x):\n",
        "  W1, W2, W3 = network['W1'], network['W2'], network[\"W3\"]\n",
        "  b1, b2, b3 = network['b1'], network['b2'], network['b3']\n",
        "\n",
        "  a1 = np.dot(x, W1) + b1\n",
        "  z1 = sigmoid(a1)\n",
        "  a2 = np.dot(z1, W2) + b2\n",
        "  z2 = sigmoid(a2)\n",
        "  a3 = np.dot(z2, W3) + b3\n",
        "  y = identity_function(a3)\n",
        "\n",
        "  return y\n",
        "\n",
        "\n",
        "network = init_network()\n",
        "x = np.array([1.0, 0.5])\n",
        "y = forward(network, x)\n",
        "print(y)"
      ],
      "metadata": {
        "colab": {
          "base_uri": "https://localhost:8080/"
        },
        "id": "10CNFY1JfGuL",
        "outputId": "6c33b358-72a3-4746-8b6b-8e0172894014"
      },
      "execution_count": null,
      "outputs": [
        {
          "output_type": "stream",
          "name": "stdout",
          "text": [
            "[0.31682708 0.69627909]\n"
          ]
        }
      ]
    },
    {
      "cell_type": "code",
      "source": [],
      "metadata": {
        "id": "U5M0kBv7gUCo"
      },
      "execution_count": null,
      "outputs": []
    }
  ]
}